{
 "cells": [
  {
   "cell_type": "markdown",
   "id": "b67ca843",
   "metadata": {},
   "source": [
    "## EX1 : ask user to enter lower case string and convert all characters with even index to upper case ?"
   ]
  },
  {
   "cell_type": "code",
   "execution_count": 10,
   "id": "f15d3d36",
   "metadata": {},
   "outputs": [],
   "source": [
    "var = input(\"Enter your Name\").lower()\n",
    "a = list(enumerate(var))\n",
    "out = []\n",
    "for i in range(len(a)):\n",
    "    if a[i][0] % 2 == 0 :\n",
    "        out.append(a[i][1].upper())\n",
    "    else:\n",
    "        out.append(a[i][1])\n",
    "        "
   ]
  },
  {
   "cell_type": "code",
   "execution_count": 7,
   "id": "b8618619",
   "metadata": {},
   "outputs": [
    {
     "data": {
      "text/plain": [
       "2"
      ]
     },
     "execution_count": 7,
     "metadata": {},
     "output_type": "execute_result"
    }
   ],
   "source": [
    "a[2][0]"
   ]
  },
  {
   "cell_type": "code",
   "execution_count": 14,
   "id": "63691c52",
   "metadata": {},
   "outputs": [],
   "source": [
    "string = ''.join(out)"
   ]
  },
  {
   "cell_type": "code",
   "execution_count": 15,
   "id": "80048b96",
   "metadata": {},
   "outputs": [
    {
     "data": {
      "text/plain": [
       "'AhMeD'"
      ]
     },
     "execution_count": 15,
     "metadata": {},
     "output_type": "execute_result"
    }
   ],
   "source": [
    "string"
   ]
  },
  {
   "cell_type": "code",
   "execution_count": null,
   "id": "869fe1df",
   "metadata": {},
   "outputs": [],
   "source": []
  },
  {
   "cell_type": "markdown",
   "id": "d81abe2f",
   "metadata": {},
   "source": [
    "## EX2 : you have a list of integers and ask user to enter number and if number exist inside list print exist else not exist ?"
   ]
  },
  {
   "cell_type": "code",
   "execution_count": 17,
   "id": "39258d4e",
   "metadata": {},
   "outputs": [
    {
     "name": "stdout",
     "output_type": "stream",
     "text": [
      "exist\n"
     ]
    }
   ],
   "source": [
    "lst = [1,2,3,4,5]\n",
    "\n",
    "var = int(input(\"Enter your Number\"))\n",
    "\n",
    "if var in lst:\n",
    "    print(\"exist\")\n",
    "else:\n",
    "    print(\"not exist\")"
   ]
  },
  {
   "cell_type": "code",
   "execution_count": null,
   "id": "0d6e4ecf",
   "metadata": {},
   "outputs": [],
   "source": []
  },
  {
   "cell_type": "markdown",
   "id": "d3ff418c",
   "metadata": {},
   "source": [
    "## EX3:  you have a list of integers and ask user to enter number and print number of occurrences of this number inside list ?"
   ]
  },
  {
   "cell_type": "code",
   "execution_count": 18,
   "id": "99129ff3",
   "metadata": {},
   "outputs": [
    {
     "data": {
      "text/plain": [
       "1"
      ]
     },
     "execution_count": 18,
     "metadata": {},
     "output_type": "execute_result"
    }
   ],
   "source": [
    "lst = [1,2,3,4,5]\n",
    "\n",
    "lst.count(1)"
   ]
  },
  {
   "cell_type": "code",
   "execution_count": null,
   "id": "3304a5f3",
   "metadata": {},
   "outputs": [],
   "source": []
  },
  {
   "cell_type": "markdown",
   "id": "1185527a",
   "metadata": {},
   "source": [
    "## EX4: write a program to find number of occurrences for each item in list and store that output in dictionary ?"
   ]
  },
  {
   "cell_type": "code",
   "execution_count": null,
   "id": "845d76a9",
   "metadata": {},
   "outputs": [],
   "source": []
  },
  {
   "cell_type": "markdown",
   "id": "47ea78fa",
   "metadata": {},
   "source": [
    "## EX5: you have a list and number search in list to find 2 items there sum is that number ?"
   ]
  },
  {
   "cell_type": "code",
   "execution_count": null,
   "id": "5fdf0642",
   "metadata": {},
   "outputs": [
    {
     "name": "stdout",
     "output_type": "stream",
     "text": [
      "1 4\n",
      "2 3\n",
      "3 2\n",
      "4 1\n"
     ]
    }
   ],
   "source": [
    "lst = [1,2,3,4,5]\n",
    "\n",
    "var = int(input())\n",
    "num1 = []\n",
    "num2 = []\n",
    "\n",
    "for i in lst:\n",
    "    for j in lst:\n",
    "        if var == i+j:\n",
    "            num1.append(i)\n",
    "            num2.append(j)\n",
    "            \n",
    "            print(i , j)\n",
    "        "
   ]
  },
  {
   "cell_type": "code",
   "execution_count": null,
   "id": "4252aba9",
   "metadata": {},
   "outputs": [],
   "source": []
  },
  {
   "cell_type": "markdown",
   "id": "e9a64120",
   "metadata": {},
   "source": [
    "## EX6: you have a string you are asked to how many numbers , how many char , how many special char in it \n",
    "* sample input 'abc123+-\\z|'\n",
    "* number of numbers = 3\n",
    "* number of char = 4\n",
    "* number of special char = 4"
   ]
  },
  {
   "cell_type": "code",
   "execution_count": null,
   "id": "51fd63cd",
   "metadata": {},
   "outputs": [],
   "source": []
  },
  {
   "cell_type": "markdown",
   "id": "9780265e",
   "metadata": {},
   "source": [
    "## EX7: For this dict find max city for each country\n",
    "* sample output (Egy -- > Damietta) --------- (US -- > California) .............................\n",
    "* countries = {'Egy' : {'Cairo' : 1200 , 'Luxor' : 198 , 'Giza' : 1987 , 'Damietta' : 19870}, 'US' : {'new Yourk' : 15500 , 'Los Angeles' : 1650 , 'California' : 18062} , 'UK' : {'London' : 1800 , 'Bristol' : 1890 , 'Manchester' : 19850} , 'france' : {'Paris' : 19820 , 'Marseille' : 1980 , 'Lyon' : 19875 } }\n",
    "\n"
   ]
  },
  {
   "cell_type": "code",
   "execution_count": 31,
   "id": "e2c20fd5",
   "metadata": {},
   "outputs": [
    {
     "data": {
      "text/plain": [
       "{'Egy': 'Damietta', 'US': 'California', 'UK': 'Manchester', 'france': 'Lyon'}"
      ]
     },
     "execution_count": 31,
     "metadata": {},
     "output_type": "execute_result"
    }
   ],
   "source": [
    "countries = {'Egy' : {'Cairo' : 1200 , 'Luxor' : 198 , 'Giza' : 1987 , 'Damietta' : 19870}, 'US' : {'new Yourk' : 15500 , 'Los Angeles' : 1650 , 'California' : 18062} , 'UK' : {'London' : 1800 , 'Bristol' : 1890 , 'Manchester' : 19850} , 'france' : {'Paris' : 19820 , 'Marseille' : 1980 , 'Lyon' : 19875 } }\n",
    "\n",
    "w={}\n",
    "for i ,x in countries.items():\n",
    "    num=0\n",
    "    city=\"\"\n",
    "    for g ,z in x.items():\n",
    "        if z>num:\n",
    "            num=z\n",
    "            city=g\n",
    "    w[i]=city\n",
    "w"
   ]
  },
  {
   "cell_type": "code",
   "execution_count": null,
   "id": "b78ce243",
   "metadata": {},
   "outputs": [],
   "source": []
  },
  {
   "cell_type": "markdown",
   "id": "6bea6dca",
   "metadata": {},
   "source": [
    "## EX8 : For this dictionary find total price for meal ?"
   ]
  },
  {
   "cell_type": "code",
   "execution_count": 5,
   "id": "0b069625",
   "metadata": {},
   "outputs": [
    {
     "data": {
      "text/plain": [
       "139"
      ]
     },
     "execution_count": 5,
     "metadata": {},
     "output_type": "execute_result"
    }
   ],
   "source": [
    "food={\"Tomato\":24,\"salad\":5,\"botato\":30,\"chekin\":80}\n",
    "x=0\n",
    "for i ,g in food.items():\n",
    "   x+=g\n",
    "x"
   ]
  },
  {
   "cell_type": "code",
   "execution_count": null,
   "id": "66a97901",
   "metadata": {},
   "outputs": [],
   "source": []
  },
  {
   "cell_type": "markdown",
   "id": "f88dfb21",
   "metadata": {},
   "source": [
    "## EX9: ask user to enter integer number and show whether this number is prime or not ?"
   ]
  },
  {
   "cell_type": "code",
   "execution_count": 35,
   "id": "ce06ccd0",
   "metadata": {},
   "outputs": [
    {
     "name": "stdin",
     "output_type": "stream",
     "text": [
      " 17\n"
     ]
    },
    {
     "data": {
      "text/plain": [
       "True"
      ]
     },
     "execution_count": 35,
     "metadata": {},
     "output_type": "execute_result"
    }
   ],
   "source": [
    "r=int(input())\n",
    "def is_prime(r):\n",
    "    if r in [1,2,3]:\n",
    "        return True\n",
    "    return r%2!=0 and r%3!=0\n",
    "is_prime(r)"
   ]
  },
  {
   "cell_type": "code",
   "execution_count": null,
   "id": "cf708c1c",
   "metadata": {},
   "outputs": [],
   "source": []
  },
  {
   "cell_type": "markdown",
   "id": "327499d9",
   "metadata": {},
   "source": [
    "## EX10 : you have a list you are asked to reverse this list ?"
   ]
  },
  {
   "cell_type": "code",
   "execution_count": 39,
   "id": "927d65e7",
   "metadata": {},
   "outputs": [
    {
     "data": {
      "text/plain": [
       "[23, 0, True, 'mohamed', 12]"
      ]
     },
     "execution_count": 39,
     "metadata": {},
     "output_type": "execute_result"
    }
   ],
   "source": [
    "x=[12,\"mohamed\",True , 0, 23]\n",
    "x=list(reversed(x))\n",
    "x"
   ]
  },
  {
   "cell_type": "code",
   "execution_count": null,
   "id": "50554351",
   "metadata": {},
   "outputs": [],
   "source": []
  },
  {
   "cell_type": "markdown",
   "id": "79cea4d1",
   "metadata": {},
   "source": [
    "## EX11: Find Greatest Common divisor between two numbers "
   ]
  },
  {
   "cell_type": "code",
   "execution_count": 44,
   "id": "f4bf7c7d",
   "metadata": {},
   "outputs": [
    {
     "name": "stdin",
     "output_type": "stream",
     "text": [
      " 35 100\n"
     ]
    },
    {
     "name": "stdout",
     "output_type": "stream",
     "text": [
      "5\n"
     ]
    }
   ],
   "source": [
    "x=list(map(int,input().split()))\n",
    "def divisor(x,y):\n",
    "    e=[]\n",
    "    for i in range(2,y+1):\n",
    "        if x%i==0 and y%i==0:\n",
    "            e.append(i)\n",
    "    if len(e)!=0:\n",
    "        return max(e)       \n",
    "    else:\n",
    "        return \"not found\"\n",
    "print(divisor(max(x),min(x)))"
   ]
  },
  {
   "cell_type": "code",
   "execution_count": null,
   "id": "0acfd12e",
   "metadata": {},
   "outputs": [],
   "source": []
  },
  {
   "cell_type": "markdown",
   "id": "54afe500",
   "metadata": {},
   "source": [
    "## EX12: Write a program that repeatedly collects positive integers from the user, stopping when the user enters a negative number or zero. After that, output the product of all positive entries."
   ]
  },
  {
   "cell_type": "code",
   "execution_count": 57,
   "id": "bc6556d5",
   "metadata": {},
   "outputs": [
    {
     "name": "stdin",
     "output_type": "stream",
     "text": [
      " 5\n",
      " 6\n",
      " 14\n",
      " 0\n"
     ]
    },
    {
     "name": "stdout",
     "output_type": "stream",
     "text": [
      "the product is: 420\n"
     ]
    }
   ],
   "source": [
    "from functools import reduce\n",
    "r=[]\n",
    "z=0\n",
    "while z==0:\n",
    "    d=int(input())\n",
    "    if d>0:\n",
    "        r.append(d)\n",
    "    else:\n",
    "        z=1\n",
    "d=reduce(lambda x,y:x*y , r)\n",
    "print(\"the product is:\",d)"
   ]
  },
  {
   "cell_type": "code",
   "execution_count": null,
   "id": "7d08b7a3",
   "metadata": {},
   "outputs": [],
   "source": []
  },
  {
   "cell_type": "markdown",
   "id": "8e616dcc",
   "metadata": {},
   "source": [
    "## EX13: Write a program that accepts from the user a list of positive integers and displays the number of even and odd values in the list. The program accepts numbers from the user until he enters a negative value."
   ]
  },
  {
   "cell_type": "code",
   "execution_count": 61,
   "id": "74a207ae",
   "metadata": {},
   "outputs": [
    {
     "name": "stdin",
     "output_type": "stream",
     "text": [
      " 5\n",
      " 1\n",
      " 2\n",
      " 14\n",
      " 13\n",
      " -1\n"
     ]
    },
    {
     "name": "stdout",
     "output_type": "stream",
     "text": [
      "odd [5, 1, 13]\n",
      "even [2, 14]\n"
     ]
    }
   ],
   "source": [
    "odd=[]\n",
    "even=[]\n",
    "z=0\n",
    "while z==0:\n",
    "    d=int(input())\n",
    "    if d>=0:\n",
    "       if d%2==0:\n",
    "           even.append(d)\n",
    "       else:\n",
    "           odd.append(d)\n",
    "    else:\n",
    "        z=1\n",
    "print(\"odd\",odd)\n",
    "print(\"even\",even)\n"
   ]
  },
  {
   "cell_type": "code",
   "execution_count": null,
   "id": "ea1f7afd",
   "metadata": {},
   "outputs": [],
   "source": []
  },
  {
   "cell_type": "markdown",
   "id": "909a4463",
   "metadata": {},
   "source": [
    "## EX14: Write a program that asks the user to enter an integer and reports all divisors in ascending order."
   ]
  },
  {
   "cell_type": "code",
   "execution_count": null,
   "id": "6eab68ca",
   "metadata": {},
   "outputs": [],
   "source": [
    "s=int "
   ]
  },
  {
   "cell_type": "markdown",
   "id": "5b362ce0",
   "metadata": {},
   "source": [
    "## EX15: Write a program that accepts numbers from the user and then tells the maximum two numbers of them. The results should be displayed when the user enters a negative number"
   ]
  },
  {
   "cell_type": "code",
   "execution_count": null,
   "id": "3f04bb9a",
   "metadata": {},
   "outputs": [],
   "source": []
  }
 ],
 "metadata": {
  "kernelspec": {
   "display_name": "Python 3 (ipykernel)",
   "language": "python",
   "name": "python3"
  },
  "language_info": {
   "codemirror_mode": {
    "name": "ipython",
    "version": 3
   },
   "file_extension": ".py",
   "mimetype": "text/x-python",
   "name": "python",
   "nbconvert_exporter": "python",
   "pygments_lexer": "ipython3",
   "version": "3.11.7"
  }
 },
 "nbformat": 4,
 "nbformat_minor": 5
}
